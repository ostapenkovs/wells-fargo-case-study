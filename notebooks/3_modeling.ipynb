{
 "cells": [
  {
   "cell_type": "code",
   "execution_count": 1,
   "metadata": {},
   "outputs": [],
   "source": [
    "# imports\n",
    "import pickle\n",
    "import numpy as np\n",
    "import pandas as pd\n",
    "import matplotlib.pyplot as plt\n",
    "import seaborn as sns\n",
    "\n",
    "from sklearn.pipeline import Pipeline\n",
    "from sklearn.preprocessing import StandardScaler\n",
    "\n",
    "from sklearn.model_selection import KFold\n",
    "from sklearn.model_selection import cross_val_score\n",
    "\n",
    "from sklearn.linear_model import LogisticRegression\n",
    "from sklearn.neural_network import MLPClassifier\n",
    "\n",
    "from sklearn.metrics import confusion_matrix, accuracy_score, roc_auc_score, roc_curve\n",
    "\n",
    "np.random.seed(1)"
   ]
  },
  {
   "cell_type": "code",
   "execution_count": 2,
   "metadata": {},
   "outputs": [],
   "source": [
    "# data load, separate into predictors and labels for both train and test\n",
    "train = pd.read_csv('../data/processed/train_proc.csv')\n",
    "test = pd.read_csv('../data/processed/test_proc.csv')\n",
    "\n",
    "train_X, train_labels = train.drop('status', axis=1), train['status']\n",
    "features = train_X.columns.tolist()\n",
    "\n",
    "test_X, test_labels = test.drop('status', axis=1), test['status']"
   ]
  },
  {
   "cell_type": "code",
   "execution_count": 3,
   "metadata": {},
   "outputs": [],
   "source": [
    "# for scaling features\n",
    "scaler = StandardScaler()\n",
    "# define cross-validation procedure\n",
    "k = 5\n",
    "cv = KFold(n_splits=k, shuffle=True)"
   ]
  },
  {
   "cell_type": "markdown",
   "metadata": {},
   "source": [
    "Logistic Regression"
   ]
  },
  {
   "cell_type": "code",
   "execution_count": 4,
   "metadata": {},
   "outputs": [
    {
     "name": "stdout",
     "output_type": "stream",
     "text": [
      "Average ROC AUC and std. across the folds: [0.768 0.006]\n"
     ]
    }
   ],
   "source": [
    "lr = LogisticRegression()\n",
    "\n",
    "pipe = Pipeline(steps=[('scaler', scaler), ('model', lr)])\n",
    "\n",
    "scores = cross_val_score(pipe, train_X, train_labels, scoring='roc_auc', cv=cv, n_jobs=-1, verbose=False)\n",
    "print(f'Average ROC AUC and std. across the folds: { np.round((scores.mean(), scores.std()), 3) }')"
   ]
  },
  {
   "cell_type": "markdown",
   "metadata": {},
   "source": [
    "Neural Net"
   ]
  },
  {
   "cell_type": "code",
   "execution_count": 5,
   "metadata": {},
   "outputs": [
    {
     "name": "stdout",
     "output_type": "stream",
     "text": [
      "Average ROC AUC and std. across the folds: [0.779 0.007]\n"
     ]
    }
   ],
   "source": [
    "net = MLPClassifier(hidden_layer_sizes=(20), activation='relu', solver='adam', alpha=0.0001, batch_size=32, max_iter=250)\n",
    "\n",
    "pipe_ = Pipeline(steps=[('scaler', scaler), ('model', net)])\n",
    "\n",
    "scores_ = cross_val_score(pipe_, train_X, train_labels, scoring='roc_auc', cv=cv, n_jobs=-1, verbose=False)\n",
    "print(f'Average ROC AUC and std. across the folds: { np.round((scores_.mean(), scores_.std()), 3) }')"
   ]
  },
  {
   "cell_type": "markdown",
   "metadata": {},
   "source": [
    "Let's fit the best model and test it.\n",
    "\n",
    "Which one is best?\n",
    "\n",
    "A neural net is a black box whereas the logistic model is interpretable via its coefficients.\n",
    "\n",
    "Seeing that the neural net is only marginally better in CV, we will use the more robust and intuitive model."
   ]
  },
  {
   "cell_type": "code",
   "execution_count": 7,
   "metadata": {},
   "outputs": [
    {
     "name": "stdout",
     "output_type": "stream",
     "text": [
      "ROC AUC score: 0.708\n"
     ]
    }
   ],
   "source": [
    "using_lr = True\n",
    "save = True\n",
    "\n",
    "clf = lr if using_lr else net\n",
    "# using the standard scaler\n",
    "train_X = scaler.fit_transform(train_X)\n",
    "# cannot use fit_transform for test_X because it will cause overfitting\n",
    "test_X = scaler.transform(test_X)\n",
    "# fit the model to our training data\n",
    "clf.fit(train_X, train_labels)\n",
    "if save:\n",
    "    # save it!\n",
    "    mod = 'lr' if using_lr else 'net'\n",
    "    with open(f'../data/model/model_{mod}.pkl', 'wb') as f:\n",
    "        pickle.dump(clf, f)\n",
    "# predict probabilities of belonging to class for test data\n",
    "preds_proba = clf.predict_proba(test_X)[:, 1]\n",
    "# predict the binary class for test data\n",
    "preds_bin = clf.predict(test_X)\n",
    "# compute the ROC AUC curve based on our predictions\n",
    "fpr, tpr, _ = roc_curve(y_true=test_labels, y_score=preds_proba)\n",
    "# compute the actual ROC AUC score, too\n",
    "auc = roc_auc_score(y_true=test_labels, y_score=preds_proba)\n",
    "print(f'ROC AUC score: {round(auc, 3)}')"
   ]
  },
  {
   "cell_type": "code",
   "execution_count": 8,
   "metadata": {},
   "outputs": [
    {
     "name": "stdout",
     "output_type": "stream",
     "text": [
      "Accuracy: 0.665\n"
     ]
    }
   ],
   "source": [
    "# compute the accuracy score\n",
    "acc = accuracy_score(y_true=test_labels, y_pred=preds_bin)\n",
    "print(f'Accuracy: {round(acc, 3)}')"
   ]
  },
  {
   "cell_type": "code",
   "execution_count": 9,
   "metadata": {},
   "outputs": [
    {
     "data": {
      "text/html": [
       "<div>\n",
       "<style scoped>\n",
       "    .dataframe tbody tr th:only-of-type {\n",
       "        vertical-align: middle;\n",
       "    }\n",
       "\n",
       "    .dataframe tbody tr th {\n",
       "        vertical-align: top;\n",
       "    }\n",
       "\n",
       "    .dataframe thead th {\n",
       "        text-align: right;\n",
       "    }\n",
       "</style>\n",
       "<table border=\"1\" class=\"dataframe\">\n",
       "  <thead>\n",
       "    <tr style=\"text-align: right;\">\n",
       "      <th>Predicted</th>\n",
       "      <th>0</th>\n",
       "      <th>1</th>\n",
       "    </tr>\n",
       "    <tr>\n",
       "      <th>True</th>\n",
       "      <th></th>\n",
       "      <th></th>\n",
       "    </tr>\n",
       "  </thead>\n",
       "  <tbody>\n",
       "    <tr>\n",
       "      <th>0</th>\n",
       "      <td>1328</td>\n",
       "      <td>977</td>\n",
       "    </tr>\n",
       "    <tr>\n",
       "      <th>1</th>\n",
       "      <td>697</td>\n",
       "      <td>1998</td>\n",
       "    </tr>\n",
       "  </tbody>\n",
       "</table>\n",
       "</div>"
      ],
      "text/plain": [
       "Predicted     0     1\n",
       "True                 \n",
       "0          1328   977\n",
       "1           697  1998"
      ]
     },
     "execution_count": 9,
     "metadata": {},
     "output_type": "execute_result"
    }
   ],
   "source": [
    "# finally, showing the confusion matrix\n",
    "conf_mtx = pd.DataFrame(confusion_matrix(y_true=test_labels, y_pred=preds_bin))\n",
    "conf_mtx.index.name = 'True'\n",
    "conf_mtx.columns.name = 'Predicted'\n",
    "\n",
    "conf_mtx"
   ]
  },
  {
   "cell_type": "code",
   "execution_count": 10,
   "metadata": {},
   "outputs": [
    {
     "data": {
      "image/png": "[encoded data removed]",
      "text/plain": [
       "<Figure size 500x500 with 1 Axes>"
      ]
     },
     "metadata": {},
     "output_type": "display_data"
    }
   ],
   "source": [
    "# plotting our ROC AUC curve. should be better than guesswork!\n",
    "identity = np.linspace(0, 1, 100)\n",
    "fig, ax = plt.subplots(1, 1, figsize=(5, 5))\n",
    "\n",
    "sns.lineplot(x=fpr, y=tpr, c='orange', label='Classifier', ax=ax)\n",
    "sns.lineplot(x=identity, y=identity, c='blue', label='Guesswork', linestyle='--', ax=ax)\n",
    "\n",
    "ax.set_xlabel('False Positive Rate')\n",
    "ax.set_ylabel('True Positive Rate')\n",
    "plt.suptitle('ROC AUC Curve')\n",
    "plt.tight_layout()\n",
    "plt.show()"
   ]
  },
  {
   "cell_type": "markdown",
   "metadata": {},
   "source": [
    "Interpreting Logistic Regression"
   ]
  },
  {
   "cell_type": "markdown",
   "metadata": {},
   "source": [
    "$$\\begin{align*}\n",
    "\\mathbb{P}(Y=1) = p &= \\frac{\\exp{(\\beta_0 + \\sum_{i=1}^{i=n} \\beta_i x_i)}}{1+\\exp{(\\beta_0 + \\sum_{i=1}^{i=n} \\beta_i x_i)}} \\\\\n",
    "\n",
    "\\frac{p}{1-p} &= \\exp{(\\beta_0 + \\sum_{i=1}^{i=n} \\beta_i x_i)} \\\\\n",
    "\n",
    "\\log{(\\frac{p}{1-p})} &= \\beta_0 + \\sum_{i=1}^{i=n} \\beta_i x_i \\\\\n",
    "\n",
    "\\end{align*}$$\n",
    "\n",
    "For every unit increase in $x_j$ the log-odds ratio increases by $\\beta_j$.\n",
    "\n",
    "For every unit increase in $x_j$ the odds ratio increases by $\\exp(\\beta_j)$.\n",
    "\n",
    "We must remember that our features have been scaled before feeding them to the model!"
   ]
  },
  {
   "cell_type": "code",
   "execution_count": 12,
   "metadata": {},
   "outputs": [],
   "source": [
    "def logit2prob(logit):\n",
    "  # conversion utility function\n",
    "  odds = np.exp(logit)\n",
    "  prob = odds / (1 + odds)\n",
    "  return prob"
   ]
  },
  {
   "cell_type": "code",
   "execution_count": 13,
   "metadata": {},
   "outputs": [],
   "source": [
    "coef = pd.DataFrame(\n",
    "        np.concatenate([clf.intercept_.reshape(1, -1), clf.coef_.reshape(1, -1)], axis=1),\n",
    "        columns=['intercept'] + features\n",
    "    ).T\n",
    "\n",
    "coef.columns = ['logit']\n",
    "\n",
    "coef['prob'] = coef['logit'].apply(lambda x: logit2prob(x))"
   ]
  },
  {
   "cell_type": "code",
   "execution_count": 14,
   "metadata": {},
   "outputs": [
    {
     "data": {
      "text/html": [
       "<div>\n",
       "<style scoped>\n",
       "    .dataframe tbody tr th:only-of-type {\n",
       "        vertical-align: middle;\n",
       "    }\n",
       "\n",
       "    .dataframe tbody tr th {\n",
       "        vertical-align: top;\n",
       "    }\n",
       "\n",
       "    .dataframe thead th {\n",
       "        text-align: right;\n",
       "    }\n",
       "</style>\n",
       "<table border=\"1\" class=\"dataframe\">\n",
       "  <thead>\n",
       "    <tr style=\"text-align: right;\">\n",
       "      <th></th>\n",
       "      <th>logit</th>\n",
       "      <th>prob</th>\n",
       "    </tr>\n",
       "  </thead>\n",
       "  <tbody>\n",
       "    <tr>\n",
       "      <th>sd_delinquency_status</th>\n",
       "      <td>0.848982</td>\n",
       "      <td>0.700354</td>\n",
       "    </tr>\n",
       "    <tr>\n",
       "      <th>mortgage</th>\n",
       "      <td>0.678855</td>\n",
       "      <td>0.663483</td>\n",
       "    </tr>\n",
       "    <tr>\n",
       "      <th>card_balance_card_util_ratio</th>\n",
       "      <td>0.514449</td>\n",
       "      <td>0.625849</td>\n",
       "    </tr>\n",
       "    <tr>\n",
       "      <th>delinquency_status_trend</th>\n",
       "      <td>0.374260</td>\n",
       "      <td>0.592488</td>\n",
       "    </tr>\n",
       "    <tr>\n",
       "      <th>card_balance</th>\n",
       "      <td>0.250620</td>\n",
       "      <td>0.562329</td>\n",
       "    </tr>\n",
       "    <tr>\n",
       "      <th>gender</th>\n",
       "      <td>0.213324</td>\n",
       "      <td>0.553130</td>\n",
       "    </tr>\n",
       "    <tr>\n",
       "      <th>intercept</th>\n",
       "      <td>0.208854</td>\n",
       "      <td>0.552024</td>\n",
       "    </tr>\n",
       "    <tr>\n",
       "      <th>sd_credit_inquiry</th>\n",
       "      <td>0.127459</td>\n",
       "      <td>0.531822</td>\n",
       "    </tr>\n",
       "    <tr>\n",
       "      <th>race_category_White</th>\n",
       "      <td>0.092181</td>\n",
       "      <td>0.523029</td>\n",
       "    </tr>\n",
       "    <tr>\n",
       "      <th>credit_inquiry_12m</th>\n",
       "      <td>0.054091</td>\n",
       "      <td>0.513519</td>\n",
       "    </tr>\n",
       "    <tr>\n",
       "      <th>delinquency_status_12m</th>\n",
       "      <td>0.003112</td>\n",
       "      <td>0.500778</td>\n",
       "    </tr>\n",
       "    <tr>\n",
       "      <th>race_category_Hispanic</th>\n",
       "      <td>-0.018634</td>\n",
       "      <td>0.495342</td>\n",
       "    </tr>\n",
       "    <tr>\n",
       "      <th>credit_inq_open_trade_ratio</th>\n",
       "      <td>-0.030544</td>\n",
       "      <td>0.492365</td>\n",
       "    </tr>\n",
       "    <tr>\n",
       "      <th>card_balance_12m</th>\n",
       "      <td>-0.183078</td>\n",
       "      <td>0.454358</td>\n",
       "    </tr>\n",
       "    <tr>\n",
       "      <th>card_utilization</th>\n",
       "      <td>-0.314954</td>\n",
       "      <td>0.421906</td>\n",
       "    </tr>\n",
       "    <tr>\n",
       "      <th>mean_credit_inquiry</th>\n",
       "      <td>-0.371289</td>\n",
       "      <td>0.408229</td>\n",
       "    </tr>\n",
       "    <tr>\n",
       "      <th>gender_times_card_balance</th>\n",
       "      <td>-0.400961</td>\n",
       "      <td>0.401081</td>\n",
       "    </tr>\n",
       "    <tr>\n",
       "      <th>mean_delinquency_status</th>\n",
       "      <td>-1.071818</td>\n",
       "      <td>0.255058</td>\n",
       "    </tr>\n",
       "  </tbody>\n",
       "</table>\n",
       "</div>"
      ],
      "text/plain": [
       "                                 logit      prob\n",
       "sd_delinquency_status         0.848982  0.700354\n",
       "mortgage                      0.678855  0.663483\n",
       "card_balance_card_util_ratio  0.514449  0.625849\n",
       "delinquency_status_trend      0.374260  0.592488\n",
       "card_balance                  0.250620  0.562329\n",
       "gender                        0.213324  0.553130\n",
       "intercept                     0.208854  0.552024\n",
       "sd_credit_inquiry             0.127459  0.531822\n",
       "race_category_White           0.092181  0.523029\n",
       "credit_inquiry_12m            0.054091  0.513519\n",
       "delinquency_status_12m        0.003112  0.500778\n",
       "race_category_Hispanic       -0.018634  0.495342\n",
       "credit_inq_open_trade_ratio  -0.030544  0.492365\n",
       "card_balance_12m             -0.183078  0.454358\n",
       "card_utilization             -0.314954  0.421906\n",
       "mean_credit_inquiry          -0.371289  0.408229\n",
       "gender_times_card_balance    -0.400961  0.401081\n",
       "mean_delinquency_status      -1.071818  0.255058"
      ]
     },
     "execution_count": 14,
     "metadata": {},
     "output_type": "execute_result"
    }
   ],
   "source": [
    "coef.sort_values(by='logit', ascending=False)"
   ]
  }
 ],
 "metadata": {
  "kernelspec": {
   "display_name": "wf_env",
   "language": "python",
   "name": "python3"
  },
  "language_info": {
   "codemirror_mode": {
    "name": "ipython",
    "version": 3
   },
   "file_extension": ".py",
   "mimetype": "text/x-python",
   "name": "python",
   "nbconvert_exporter": "python",
   "pygments_lexer": "ipython3",
   "version": "3.10.13"
  }
 },
 "nbformat": 4,
 "nbformat_minor": 2
}
