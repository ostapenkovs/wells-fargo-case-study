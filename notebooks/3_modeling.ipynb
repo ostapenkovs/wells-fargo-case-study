{
 "cells": [
  {
   "cell_type": "code",
   "execution_count": 1,
   "metadata": {},
   "outputs": [],
   "source": [
    "# imports\n",
    "import pickle\n",
    "import numpy as np\n",
    "import pandas as pd\n",
    "import matplotlib.pyplot as plt\n",
    "import seaborn as sns\n",
    "\n",
    "from sklearn.pipeline import Pipeline\n",
    "from sklearn.preprocessing import StandardScaler\n",
    "\n",
    "from sklearn.model_selection import KFold\n",
    "from sklearn.model_selection import cross_val_score\n",
    "\n",
    "from sklearn.linear_model import LogisticRegression\n",
    "from sklearn.neural_network import MLPClassifier\n",
    "\n",
    "from sklearn.metrics import confusion_matrix, accuracy_score, roc_auc_score, roc_curve\n",
    "\n",
    "np.random.seed(1)"
   ]
  },
  {
   "cell_type": "code",
   "execution_count": 2,
   "metadata": {},
   "outputs": [],
   "source": [
    "# data load, separate into predictors and labels for both train and test\n",
    "train = pd.read_csv('../data/processed/train_proc.csv')\n",
    "test = pd.read_csv('../data/processed/test_proc.csv')\n",
    "\n",
    "train_X, train_labels = train.drop('status', axis=1), train['status']\n",
    "\n",
    "test_X, test_labels = test.drop('status', axis=1), test['status']"
   ]
  },
  {
   "cell_type": "code",
   "execution_count": 3,
   "metadata": {},
   "outputs": [],
   "source": [
    "# for scaling features\n",
    "scaler = StandardScaler()\n",
    "# define cross-validation procedure\n",
    "k = 5\n",
    "cv = KFold(n_splits=k, shuffle=True)"
   ]
  },
  {
   "cell_type": "markdown",
   "metadata": {},
   "source": [
    "Logistic Regression"
   ]
  },
  {
   "cell_type": "code",
   "execution_count": 4,
   "metadata": {},
   "outputs": [
    {
     "name": "stdout",
     "output_type": "stream",
     "text": [
      "Average ROC AUC and std. across the folds: [0.763 0.006]\n"
     ]
    }
   ],
   "source": [
    "lr = LogisticRegression()\n",
    "\n",
    "pipe = Pipeline(steps=[('scaler', scaler), ('model', lr)])\n",
    "\n",
    "scores = cross_val_score(pipe, train_X, train_labels, scoring='roc_auc', cv=cv, n_jobs=-1, verbose=False)\n",
    "print(f'Average ROC AUC and std. across the folds: { np.round((scores.mean(), scores.std()), 3) }')"
   ]
  },
  {
   "cell_type": "markdown",
   "metadata": {},
   "source": [
    "Neural Net"
   ]
  },
  {
   "cell_type": "code",
   "execution_count": 5,
   "metadata": {},
   "outputs": [
    {
     "name": "stdout",
     "output_type": "stream",
     "text": [
      "Average ROC AUC and std. across the folds: [0.773 0.006]\n"
     ]
    }
   ],
   "source": [
    "net = MLPClassifier(hidden_layer_sizes=(25), activation='relu', solver='adam', alpha=0.0001, batch_size=32, max_iter=250)\n",
    "\n",
    "pipe_ = Pipeline(steps=[('scaler', scaler), ('model', net)])\n",
    "\n",
    "scores_ = cross_val_score(pipe_, train_X, train_labels, scoring='roc_auc', cv=cv, n_jobs=-1, verbose=False)\n",
    "print(f'Average ROC AUC and std. across the folds: { np.round((scores_.mean(), scores_.std()), 3) }')"
   ]
  },
  {
   "cell_type": "markdown",
   "metadata": {},
   "source": [
    "Let's fit the best model and test it"
   ]
  },
  {
   "cell_type": "code",
   "execution_count": 11,
   "metadata": {},
   "outputs": [
    {
     "name": "stdout",
     "output_type": "stream",
     "text": [
      "ROC AUC score: 0.741\n"
     ]
    }
   ],
   "source": [
    "using_lr = True\n",
    "clf = lr if using_lr else net\n",
    "# using the standard scaler\n",
    "train_X = scaler.fit_transform(train_X)\n",
    "# cannot use fit_transform for test_X because it will cause overfitting\n",
    "test_X = scaler.transform(test_X)\n",
    "# fit the model to our training data\n",
    "clf.fit(train_X, train_labels)\n",
    "# save it!\n",
    "mod = 'lr' if using_lr else 'net'\n",
    "with open(f'../data/model/model_{mod}.pkl', 'wb') as f:\n",
    "    pickle.dump(clf, f)\n",
    "# predict probabilities of belonging to class for test data\n",
    "preds_proba = clf.predict_proba(test_X)[:, 1]\n",
    "# predict the binary class for test data\n",
    "preds_bin = clf.predict(test_X)\n",
    "# compute the ROC AUC curve based on our predictions\n",
    "fpr, tpr, _ = roc_curve(y_true=test_labels, y_score=preds_proba)\n",
    "# compute the actual ROC AUC score, too\n",
    "auc = roc_auc_score(y_true=test_labels, y_score=preds_proba)\n",
    "print(f'ROC AUC score: {round(auc, 3)}')"
   ]
  },
  {
   "cell_type": "code",
   "execution_count": 7,
   "metadata": {},
   "outputs": [
    {
     "name": "stdout",
     "output_type": "stream",
     "text": [
      "Accuracy: 0.681\n"
     ]
    }
   ],
   "source": [
    "# compute the accuracy score\n",
    "acc = accuracy_score(y_true=test_labels, y_pred=preds_bin)\n",
    "print(f'Accuracy: {round(acc, 3)}')"
   ]
  },
  {
   "cell_type": "code",
   "execution_count": 8,
   "metadata": {},
   "outputs": [
    {
     "data": {
      "text/html": [
       "<div>\n",
       "<style scoped>\n",
       "    .dataframe tbody tr th:only-of-type {\n",
       "        vertical-align: middle;\n",
       "    }\n",
       "\n",
       "    .dataframe tbody tr th {\n",
       "        vertical-align: top;\n",
       "    }\n",
       "\n",
       "    .dataframe thead th {\n",
       "        text-align: right;\n",
       "    }\n",
       "</style>\n",
       "<table border=\"1\" class=\"dataframe\">\n",
       "  <thead>\n",
       "    <tr style=\"text-align: right;\">\n",
       "      <th>Predicted</th>\n",
       "      <th>0</th>\n",
       "      <th>1</th>\n",
       "    </tr>\n",
       "    <tr>\n",
       "      <th>True</th>\n",
       "      <th></th>\n",
       "      <th></th>\n",
       "    </tr>\n",
       "  </thead>\n",
       "  <tbody>\n",
       "    <tr>\n",
       "      <th>0</th>\n",
       "      <td>1527</td>\n",
       "      <td>778</td>\n",
       "    </tr>\n",
       "    <tr>\n",
       "      <th>1</th>\n",
       "      <td>815</td>\n",
       "      <td>1880</td>\n",
       "    </tr>\n",
       "  </tbody>\n",
       "</table>\n",
       "</div>"
      ],
      "text/plain": [
       "Predicted     0     1\n",
       "True                 \n",
       "0          1527   778\n",
       "1           815  1880"
      ]
     },
     "execution_count": 8,
     "metadata": {},
     "output_type": "execute_result"
    }
   ],
   "source": [
    "# finally, showing the confusion matrix\n",
    "conf_mtx = pd.DataFrame(confusion_matrix(y_true=test_labels, y_pred=preds_bin))\n",
    "conf_mtx.index.name = 'True'\n",
    "conf_mtx.columns.name = 'Predicted'\n",
    "\n",
    "conf_mtx"
   ]
  },
  {
   "cell_type": "code",
   "execution_count": 9,
   "metadata": {},
   "outputs": [
    {
     "data": {
      "image/png": "[encoded data removed]",
      "text/plain": [
       "<Figure size 500x500 with 1 Axes>"
      ]
     },
     "metadata": {},
     "output_type": "display_data"
    }
   ],
   "source": [
    "# plotting our ROC AUC curve. should be better than guesswork!\n",
    "identity = np.linspace(0, 1, 100)\n",
    "fig, ax = plt.subplots(1, 1, figsize=(5, 5))\n",
    "\n",
    "sns.lineplot(x=fpr, y=tpr, c='orange', label='Classifier', ax=ax)\n",
    "sns.lineplot(x=identity, y=identity, c='blue', label='Guesswork', linestyle='--', ax=ax)\n",
    "\n",
    "ax.set_xlabel('False Positive Rate')\n",
    "ax.set_ylabel('True Positive Rate')\n",
    "plt.suptitle('ROC AUC Curve')\n",
    "plt.tight_layout()\n",
    "plt.show()"
   ]
  }
 ],
 "metadata": {
  "kernelspec": {
   "display_name": "wf_env",
   "language": "python",
   "name": "python3"
  },
  "language_info": {
   "codemirror_mode": {
    "name": "ipython",
    "version": 3
   },
   "file_extension": ".py",
   "mimetype": "text/x-python",
   "name": "python",
   "nbconvert_exporter": "python",
   "pygments_lexer": "ipython3",
   "version": "3.10.13"
  }
 },
 "nbformat": 4,
 "nbformat_minor": 2
}
