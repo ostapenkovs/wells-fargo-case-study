{
 "cells": [
  {
   "cell_type": "code",
   "execution_count": 1,
   "metadata": {},
   "outputs": [],
   "source": [
    "# imports\n",
    "import pandas as pd"
   ]
  },
  {
   "cell_type": "code",
   "execution_count": 2,
   "metadata": {},
   "outputs": [],
   "source": [
    "# data definitions\n",
    "data_dir = '../data'\n",
    "raw, processed = 'raw', 'processed'\n",
    "\n",
    "train_fname = 'train_PresSE_SRF_747.xlsm'\n",
    "test_fname = 'test_PresSE_SRF_747.xlsm'"
   ]
  },
  {
   "cell_type": "code",
   "execution_count": 3,
   "metadata": {},
   "outputs": [],
   "source": [
    "# will be re-ordering columns for better auto-visualization\n",
    "cols = [\n",
    "        'Mortgage', 'Card Utilization', 'Amount Past Due', 'DDA Balance_9m',\n",
    "        'Card Balance', 'Card Balance_3m', 'Card Balance_6m', 'Card Balance_12m',\n",
    "        'Delinquency Status', 'Delinquency Status_3m', 'Delinquency Status_6m', 'Delinquency Status_12m',\n",
    "        'Credit Inquiry', 'Credit Inquiry_3m', 'Credit Inquiry_6m', 'Credit Inquiry_12m',\n",
    "        'Open Trade', 'Open Trade_3m', 'Open Trade_6m', 'Open Trade_12m',\n",
    "        'Gender', 'Race', 'Race_Category', 'Status'\n",
    "    ]\n",
    "# also will be renaming columns for easier access\n",
    "new_cols = [x.lower().replace(' ', '_') for x in cols]"
   ]
  },
  {
   "cell_type": "code",
   "execution_count": 4,
   "metadata": {},
   "outputs": [
    {
     "name": "stdout",
     "output_type": "stream",
     "text": [
      "1. train_PresSE_SRF_747.xlsm has shape (20000, 24)\n",
      "Num. NA is 0\n",
      "\n",
      "2. test_PresSE_SRF_747.xlsm has shape (5000, 24)\n",
      "Num. NA is 0\n",
      "\n"
     ]
    }
   ],
   "source": [
    "for i, fname in enumerate((train_fname, test_fname)):\n",
    "    temp = pd.read_excel(f'{data_dir}/{raw}/{fname}')\n",
    "    \n",
    "    print(f'{i+1}. {fname} has shape {temp.shape}')\n",
    "    print(f'Num. NA is {temp.isna().sum().sum()}')\n",
    "\n",
    "    temp = temp[cols]\n",
    "    temp.columns = new_cols\n",
    "    # converting train and test data into .csv file format\n",
    "    temp.to_csv(f\"{data_dir}/{processed}/{fname.replace('xlsm', 'csv')}\", index=False)\n",
    "    temp = val = None\n",
    "    print()"
   ]
  }
 ],
 "metadata": {
  "kernelspec": {
   "display_name": "wf_env",
   "language": "python",
   "name": "python3"
  },
  "language_info": {
   "codemirror_mode": {
    "name": "ipython",
    "version": 3
   },
   "file_extension": ".py",
   "mimetype": "text/x-python",
   "name": "python",
   "nbconvert_exporter": "python",
   "pygments_lexer": "ipython3",
   "version": "3.10.13"
  }
 },
 "nbformat": 4,
 "nbformat_minor": 2
}
