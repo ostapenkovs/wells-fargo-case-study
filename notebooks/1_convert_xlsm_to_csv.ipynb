{
 "cells": [
  {
   "cell_type": "code",
   "execution_count": 1,
   "metadata": {},
   "outputs": [
    {
     "name": "stdout",
     "output_type": "stream",
     "text": [
      "train_PresSE_SRF_747.xlsm has shape (20000, 24)\n",
      "Num. NA is 0\n",
      "\n",
      "test_PresSE_SRF_747.xlsm has shape (5000, 24)\n",
      "Num. NA is 0\n",
      "\n"
     ]
    }
   ],
   "source": [
    "# Converting train and test data into .csv file format\n",
    "\n",
    "import pandas as pd\n",
    "\n",
    "data_dir = '../data'\n",
    "raw, processed = 'raw', 'processed'\n",
    "\n",
    "train_fname = 'train_PresSE_SRF_747.xlsm'\n",
    "test_fname = 'test_PresSE_SRF_747.xlsm'\n",
    "\n",
    "for fname in (train_fname, test_fname):\n",
    "    temp = pd.read_excel(f'{data_dir}/{raw}/{fname}')\n",
    "    \n",
    "    print(f'{fname} has shape {temp.shape}')\n",
    "    print(f'Num. NA is {temp.isna().sum().sum()}')\n",
    "\n",
    "    temp.to_csv(f\"{data_dir}/{processed}/{fname.replace('xlsm', 'csv')}\", index=False)\n",
    "    temp = None\n",
    "    print()"
   ]
  }
 ],
 "metadata": {
  "kernelspec": {
   "display_name": "wf_env",
   "language": "python",
   "name": "python3"
  },
  "language_info": {
   "codemirror_mode": {
    "name": "ipython",
    "version": 3
   },
   "file_extension": ".py",
   "mimetype": "text/x-python",
   "name": "python",
   "nbconvert_exporter": "python",
   "pygments_lexer": "ipython3",
   "version": "3.10.13"
  }
 },
 "nbformat": 4,
 "nbformat_minor": 2
}
